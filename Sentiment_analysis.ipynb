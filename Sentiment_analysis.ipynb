{
 "cells": [
  {
   "cell_type": "markdown",
   "id": "5d286c8c-eb4f-4409-acf1-39ef1914ac7b",
   "metadata": {},
   "source": [
    "# Sentiment analysis with the use of NLTK Python library"
   ]
  },
  {
   "cell_type": "markdown",
   "id": "f9ce725c-cf32-40f3-8640-a1d4a56f59b9",
   "metadata": {},
   "source": [
    "# Sentiment analysis\n",
    "**What is sentiment analysis?**\n",
    "\n",
    "Sentiment analysis, also known as opinion mining, is a computational technique used to determine the sentiment or emotional tone expressed in a piece of text. It involves automatically analyzing text data to identify and extract subjective information such as opinions, attitudes, and emotions.\n",
    "\n",
    "The goal of sentiment analysis is to understand the underlying sentiment behind a text, whether it is positive, negative, or neutral. This analysis can be performed on various types of textual data, including social media posts, customer reviews, news articles, and more.\n",
    "\n",
    "**Methodology in sentiment analysis**\n",
    "\n",
    "According to the authors of the *Approaches, Tools and Applications for Sentiment Analysis Implementation* article published in the *International Journal of Computer Applications*, there are five essential steps that need to be implemented while peforming a sentiment analysis. Those steps are:\n",
    "1. **Data collection** - The initial stage of sentiment analysis involves gathering data from user-generated content found in blogs, forums, and social networks. This data is often unstructured and expressed in various forms, including different vocabularies, slangs, and contextual writing styles. Manual analysis of such vast and diverse data becomes nearly impossible. Consequently, text analytics and natural language processing techniques are employed to extract and categorize this data. These methods enable automated extraction of meaningful information and classification of sentiments, overcoming the challenges posed by the disorganized nature of the data and its varying expressions.\n",
    "2. **Text preparation** - Before conducting the analysis, the extracted data undergoes a cleaning process. This involves identifying and removing non-textual content as well as irrelevant information that is not pertinent to the analysis. By eliminating these elements, the data is refined and prepared for further analysis, focusing only on the essential textual content.\n",
    "3. **Sentiment detection** - The extracted sentences from reviews and opinions are carefully examined. Sentences that contain subjective expressions such as opinions, beliefs, and views are selected and retained, while sentences that convey objective information such as facts and factual details are discarded. This process ensures that only the subjective content, which is relevant for sentiment analysis, is considered and analyzed further.\n",
    "4. **Sentiment classification** - During this step, subjective sentences are categorized into positive or negative sentiments, indicating whether they convey a positive or negative evaluation. The classification can also involve determining if the sentiment is \"good\" or \"bad\" or if the sentiment reflects \"liking\" or \"disliking\" something. It is important to note that the classification can be performed by considering multiple aspects or points, taking into account various factors or dimensions that contribute to the overall sentiment expressed in the sentence.\n",
    "5. **Presentation of output** - The primary goal of sentiment analysis is to transform unstructured text into valuable and meaningful information. Once the analysis is completed, the textual results are visualized using graphical representations such as pie charts, bar charts, and line graphs. Additionally, the aspect of time can be analyzed, and a sentiment timeline can be constructed, showcasing the chosen value (frequency, percentages, averages) over time in a graphical format. This enables a clear and visual understanding of how sentiments evolve and change over a specific period.\n"
   ]
  },
  {
   "cell_type": "markdown",
   "id": "20db6f74-5813-48fa-8174-96b5954fc6de",
   "metadata": {},
   "source": [
    "**What is NLTK?**\n",
    "\n",
    "NLTK is a popular Python library for working with human language data. NLTK includes pre-trained sentiment analysis models that can be used to analyze the sentiment of text. The compound score is a value between -1 and 1, where -1 indicates extremely negative sentiment and 1 indicates extremely positive sentiment. NLTK's sentiment analysis capabilities are useful for various applications, including social media monitoring, customer sentiment analysis, and opinion mining."
   ]
  },
  {
   "cell_type": "markdown",
   "id": "55e266d1-5f93-483d-a992-4dcf517bf887",
   "metadata": {},
   "source": [
    "# Analysis\n"
   ]
  },
  {
   "cell_type": "markdown",
   "id": "f0b7f432-0394-43e3-8cc5-9b9df41bd020",
   "metadata": {},
   "source": [
    "**Data**\n",
    "\n",
    "The sentiment analysis will be performed on the reviews found on https://www.rottentomatoes.com/ regarding the TV show called *Gilmore Girls*. The reviews will refer to the first episode of the first season of the show. \n"
   ]
  },
  {
   "cell_type": "code",
   "execution_count": 11,
   "id": "2251cac8-7b8a-481e-bec2-5727b127771f",
   "metadata": {},
   "outputs": [
    {
     "name": "stdout",
     "output_type": "stream",
     "text": [
      "Sentiment Analysis Results:\n",
      "Positive Score: 0.288\n",
      "Negative Score: 0.076\n",
      "Neutral Score: 0.636\n",
      "Compound Score: 0.9823\n"
     ]
    },
    {
     "name": "stderr",
     "output_type": "stream",
     "text": [
      "[nltk_data] Downloading package punkt to\n",
      "[nltk_data]     C:\\Users\\LENOVO\\AppData\\Roaming\\nltk_data...\n",
      "[nltk_data]   Package punkt is already up-to-date!\n",
      "[nltk_data] Downloading package stopwords to\n",
      "[nltk_data]     C:\\Users\\LENOVO\\AppData\\Roaming\\nltk_data...\n",
      "[nltk_data]   Package stopwords is already up-to-date!\n",
      "[nltk_data] Downloading package wordnet to\n",
      "[nltk_data]     C:\\Users\\LENOVO\\AppData\\Roaming\\nltk_data...\n",
      "[nltk_data]   Package wordnet is already up-to-date!\n"
     ]
    }
   ],
   "source": [
    "import nltk\n",
    "from nltk.sentiment import SentimentIntensityAnalyzer\n",
    "from nltk.tokenize import word_tokenize\n",
    "from nltk.corpus import stopwords\n",
    "from nltk.stem import WordNetLemmatizer\n",
    "\n",
    "nltk.download('punkt')\n",
    "nltk.download('stopwords')\n",
    "nltk.download('wordnet')\n",
    "\n",
    "# loading the reviews text\n",
    "reviews = \"No show does Autumn as well at this one, nor has set an impossible bar for men as high as Scott Patterson’s Luke Danes… For seven years mothers and daughters and even some fathers and sons watched Lorelei tussle with her disapproving blue-blood parents while tripping through a complicated romantic life that she can’t help but complicate even more. One of those shows that I have watched multiple times and will always stop and watch if I'm flipping channels on cable. It's comfort feel-good television. Gilmore Girls starts kind of slow and relies a bit too heavily on pop culture references, but it's hard not to be charmed by Stars Hollow and its wacky inhabitants. The writing constantly walks the line of clever and 'look at me, I'm being clever'. Doubletalk and witty dialogue permeate every sentence, and the result is sort of a 'Mamet for women'. Is it churlish to suggest that one of the most beloved and popular dramas currently on television is really kind of dull? Yes, it has its share of soap-opera like moments, but what it also delivers is a lot of insight about growing up and dealing with the complications of life without being preachy. It is smart, it is funny and it is morally uplifting.\"\n",
    "\n",
    "\n",
    "# tokenization\n",
    "tokens = word_tokenize(article)\n",
    "\n",
    "# removing stopwords\n",
    "stop_words = set(stopwords.words('english'))\n",
    "filtered_tokens = [token for token in tokens if token.lower() not in stop_words]\n",
    "\n",
    "# lemmatization\n",
    "lemmatizer = WordNetLemmatizer()\n",
    "lemmatized_tokens = [lemmatizer.lemmatize(token) for token in filtered_tokens]\n",
    "\n",
    "# joining the tokens back into a single string\n",
    "processed_text = ' '.join(lemmatized_tokens)\n",
    "\n",
    "# sentiment analysis\n",
    "sid = SentimentIntensityAnalyzer()\n",
    "sentiment_scores = sid.polarity_scores(processed_text)\n",
    "\n",
    "# printing the sentiment analysis results\n",
    "print(\"Sentiment Analysis Results:\")\n",
    "print(f\"Positive Score: {sentiment_scores['pos']}\")\n",
    "print(f\"Negative Score: {sentiment_scores['neg']}\")\n",
    "print(f\"Neutral Score: {sentiment_scores['neu']}\")\n",
    "print(f\"Compound Score: {sentiment_scores['compound']}\")"
   ]
  },
  {
   "cell_type": "markdown",
   "id": "35b61f37-ac6a-4a11-9c40-d9befc6c1bc3",
   "metadata": {},
   "source": [
    "**To illustrate graphically the results of the analysis, the matplotlib Python library provides, among its many different features, a pie chart.**"
   ]
  },
  {
   "cell_type": "code",
   "execution_count": 13,
   "id": "49f56fe3-4eff-4539-9e19-80db86b6b48c",
   "metadata": {},
   "outputs": [
    {
     "data": {
      "image/png": "[encoded data removed]",
      "text/plain": [
       "<Figure size 640x480 with 1 Axes>"
      ]
     },
     "metadata": {},
     "output_type": "display_data"
    }
   ],
   "source": [
    "import matplotlib.pyplot as plt\n",
    "\n",
    "# sentiment analysis scores\n",
    "positive_score = 0.288\n",
    "negative_score = 0.076\n",
    "neutral_score = 0.636\n",
    "\n",
    "# data for the pie chart\n",
    "labels = ['Positive', 'Negative', 'Neutral']\n",
    "sizes = [positive_score, negative_score, neutral_score]\n",
    "colors = ['#82E0AA', '#F1948A', '#EAF2F8']\n",
    "explode = (0.1, 0, 0)  # Explode the 'Positive' slice\n",
    "\n",
    "# creating the pie chart\n",
    "plt.pie(sizes, explode=explode, labels=labels, colors=colors, autopct='%1.1f%%', startangle=90)\n",
    "plt.axis('equal')  # Equal aspect ratio ensures that pie is drawn as a circle\n",
    "\n",
    "# adding a title\n",
    "plt.title('Sentiment Analysis Results')\n",
    "\n",
    "# displaying the pie chart\n",
    "plt.show()"
   ]
  },
  {
   "cell_type": "markdown",
   "id": "c3bad447-7d5a-4242-b00a-409792829d98",
   "metadata": {},
   "source": [
    "# Conclusions"
   ]
  },
  {
   "cell_type": "markdown",
   "id": "25755f96-cf01-4655-9fee-ca09a78e857c",
   "metadata": {},
   "source": [
    "From the analysis results and its graphic illustration it can be infered that the majority of the text in the reviews was marked as neutral, which means that it did not score enough to be classified as either positive or negative. 28.8% is the score which represents the text marked as positive, and only 7.6% accounts for the negative part of the reviews."
   ]
  },
  {
   "cell_type": "markdown",
   "id": "c0447561-3bb6-4977-ac6c-b99efa4016c7",
   "metadata": {},
   "source": [
    "Although the analysis conducted in this essay is consise, it serves as a great example of the capabilities of the linguistic libraries in Python. NLTK's versatility and extensive documentation make it a valuable resource for both beginners and experienced practitioners in the field of natural language processing. Its vast array of functionalities make it a popular choice for researchers, students, and developers working with text and language data.\n",
    "\n",
    "Overall, NLTK empowers Python developers with a comprehensive set of tools and resources for working with human language data. Whether a person is exploring linguistic patterns, building language models, or conducting sentiment analysis, NLTK is a reliable library that provides a solid foundation for various natural language processing tasks."
   ]
  },
  {
   "cell_type": "code",
   "execution_count": null,
   "id": "07324143-4137-4f45-8e2c-5c82f62068dd",
   "metadata": {},
   "outputs": [],
   "source": []
  }
 ],
 "metadata": {
  "kernelspec": {
   "display_name": "Python 3 (ipykernel)",
   "language": "python",
   "name": "python3"
  },
  "language_info": {
   "codemirror_mode": {
    "name": "ipython",
    "version": 3
   },
   "file_extension": ".py",
   "mimetype": "text/x-python",
   "name": "python",
   "nbconvert_exporter": "python",
   "pygments_lexer": "ipython3",
   "version": "3.10.9"
  }
 },
 "nbformat": 4,
 "nbformat_minor": 5
}
