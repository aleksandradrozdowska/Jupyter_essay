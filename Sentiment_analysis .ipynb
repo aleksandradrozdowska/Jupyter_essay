{
 "cells": [
  {
   "cell_type": "markdown",
   "id": "5d286c8c-eb4f-4409-acf1-39ef1914ac7b",
   "metadata": {},
   "source": [
    "# Sentiment analysis with the use of NLTK Python library"
   ]
  },
  {
   "cell_type": "markdown",
   "id": "f9ce725c-cf32-40f3-8640-a1d4a56f59b9",
   "metadata": {},
   "source": [
    "# Sentiment analysis\n",
    "**What is sentiment analysis?**\n",
    "\n",
    "Sentiment analysis, also known as opinion mining, is a computational technique used to determine the sentiment or emotional tone expressed in a piece of text. It involves automatically analyzing text data to identify and extract subjective information such as opinions, attitudes, and emotions.\n",
    "\n",
    "The goal of sentiment analysis is to understand the underlying sentiment behind a text, whether it is positive, negative, or neutral. This analysis can be performed on various types of textual data, including social media posts, customer reviews, news articles, and more.\n",
    "\n",
    "**Methodology in sentiment analysis**\n",
    "\n",
    "According to the authors of the *Approaches, Tools and Applications for Sentiment Analysis Implementation* article published in the *International Journal of Computer Applications*, there are five essential steps that need to be implemented while peforming a sentiment analysis. Those steps are:\n",
    "1. **Data collection** - The initial stage of sentiment analysis involves gathering data from user-generated content found in blogs, forums, and social networks. This data is often unstructured and expressed in various forms, including different vocabularies, slangs, and contextual writing styles. Manual analysis of such vast and diverse data becomes nearly impossible. Consequently, text analytics and natural language processing techniques are employed to extract and categorize this data. These methods enable automated extraction of meaningful information and classification of sentiments, overcoming the challenges posed by the disorganized nature of the data and its varying expressions.\n",
    "2. **Text preparation** - Before conducting the analysis, the extracted data undergoes a cleaning process. This involves identifying and removing non-textual content as well as irrelevant information that is not pertinent to the analysis. By eliminating these elements, the data is refined and prepared for further analysis, focusing only on the essential textual content.\n",
    "3. **Sentiment detection** - The extracted sentences from reviews and opinions are carefully examined. Sentences that contain subjective expressions such as opinions, beliefs, and views are selected and retained, while sentences that convey objective information such as facts and factual details are discarded. This process ensures that only the subjective content, which is relevant for sentiment analysis, is considered and analyzed further.\n",
    "4. **Sentiment classification** - During this step, subjective sentences are categorized into positive or negative sentiments, indicating whether they convey a positive or negative evaluation. The classification can also involve determining if the sentiment is \"good\" or \"bad\" or if the sentiment reflects \"liking\" or \"disliking\" something. It is important to note that the classification can be performed by considering multiple aspects or points, taking into account various factors or dimensions that contribute to the overall sentiment expressed in the sentence.\n",
    "5. **Presentation of output** - The primary goal of sentiment analysis is to transform unstructured text into valuable and meaningful information. Once the analysis is completed, the textual results are visualized using graphical representations such as pie charts, bar charts, and line graphs. Additionally, the aspect of time can be analyzed, and a sentiment timeline can be constructed, showcasing the chosen value (frequency, percentages, averages) over time in a graphical format. This enables a clear and visual understanding of how sentiments evolve and change over a specific period.\n"
   ]
  },
  {
   "cell_type": "markdown",
   "id": "20db6f74-5813-48fa-8174-96b5954fc6de",
   "metadata": {},
   "source": [
    "**What is NLTK?**\n",
    "\n",
    "NLTK is a popular Python library for working with human language data. NLTK includes pre-trained sentiment analysis models that can be used to analyze the sentiment of text. The compound score is a value between -1 and 1, where -1 indicates extremely negative sentiment and 1 indicates extremely positive sentiment. NLTK's sentiment analysis capabilities are useful for various applications, including social media monitoring, customer sentiment analysis, and opinion mining."
   ]
  },
  {
   "cell_type": "markdown",
   "id": "4d469427-7436-4da0-a9f4-ef04b3bb1136",
   "metadata": {},
   "source": [
    "**What is BeautifulSoup?**\n",
    "\n",
    "Beautiful Soup is a popular Python library used for web scraping and parsing HTML and XML documents. It provides convenient methods and functionalities to extract data from web pages by navigating the HTML/XML structure."
   ]
  },
  {
   "cell_type": "markdown",
   "id": "55e266d1-5f93-483d-a992-4dcf517bf887",
   "metadata": {},
   "source": [
    "# Analysis\n"
   ]
  },
  {
   "cell_type": "markdown",
   "id": "f0b7f432-0394-43e3-8cc5-9b9df41bd020",
   "metadata": {},
   "source": [
    "**Data**\n",
    "\n",
    "The sentiment analysis will be performed on the reviews found on https://www.rottentomatoes.com/ regarding the TV show called *Gilmore Girls*. The reviews will refer to the first episode of the first season of the show and will be processed into this essay via the BeautifulSoup Python library.\n"
   ]
  },
  {
   "cell_type": "code",
   "execution_count": 17,
   "id": "ff4bb7b0-aa81-41cb-bd23-27fdbf33530d",
   "metadata": {},
   "outputs": [
    {
     "name": "stderr",
     "output_type": "stream",
     "text": [
      "[nltk_data] Downloading package punkt to\n",
      "[nltk_data]     C:\\Users\\LENOVO\\AppData\\Roaming\\nltk_data...\n",
      "[nltk_data]   Package punkt is already up-to-date!\n",
      "[nltk_data] Downloading package stopwords to\n",
      "[nltk_data]     C:\\Users\\LENOVO\\AppData\\Roaming\\nltk_data...\n",
      "[nltk_data]   Package stopwords is already up-to-date!\n",
      "[nltk_data] Downloading package wordnet to\n",
      "[nltk_data]     C:\\Users\\LENOVO\\AppData\\Roaming\\nltk_data...\n",
      "[nltk_data]   Package wordnet is already up-to-date!\n"
     ]
    },
    {
     "name": "stdout",
     "output_type": "stream",
     "text": [
      "Sentiment Analysis Results:\n",
      "Positive Score: 0.302\n",
      "Negative Score: 0.05\n",
      "Neutral Score: 0.648\n",
      "Compound Score: 0.9982\n"
     ]
    }
   ],
   "source": [
    "import requests\n",
    "from bs4 import BeautifulSoup\n",
    "import nltk\n",
    "from nltk.sentiment import SentimentIntensityAnalyzer\n",
    "from nltk.tokenize import word_tokenize\n",
    "from nltk.corpus import stopwords\n",
    "from nltk.stem import WordNetLemmatizer\n",
    "\n",
    "nltk.download('punkt')\n",
    "nltk.download('stopwords')\n",
    "nltk.download('wordnet')\n",
    "\n",
    "#getting the page content\n",
    "text = requests.get(\"https://www.rottentomatoes.com/tv/gilmore-girls/s01/reviews\")\n",
    "\n",
    "soup = BeautifulSoup(text.content, 'html.parser')\n",
    "\n",
    "# Find the review elements\n",
    "review_elements = soup.find_all(\"div\", class_=\"review-text-container\")\n",
    "\n",
    "# Extract the text of the reviews and store them in a list\n",
    "reviews = [review.find(\"p\", class_=\"review-text\").text.strip() for review in review_elements]\n",
    "\n",
    "#joining the reviews into a single text string\n",
    "reviews_text = ' '.join(reviews)\n",
    "\n",
    "# tokenization\n",
    "tokens = word_tokenize(reviews_text)\n",
    "\n",
    "#removing stopwords\n",
    "stop_words = set(stopwords.words('english'))\n",
    "filtered_tokens = [token for token in tokens if token.lower() not in stop_words]\n",
    "\n",
    "#lemmatization\n",
    "lemmatizer = WordNetLemmatizer()\n",
    "lemmatized_tokens = [lemmatizer.lemmatize(token) for token in filtered_tokens]\n",
    "\n",
    "#joining the tokens back into a single string\n",
    "processed_text = ' '.join(lemmatized_tokens)\n",
    "\n",
    "#sentiment analysis\n",
    "sid = SentimentIntensityAnalyzer()\n",
    "sentiment_scores = sid.polarity_scores(processed_text)\n",
    "\n",
    "print(\"Sentiment Analysis Results:\")\n",
    "print(f\"Positive Score: {sentiment_scores['pos']}\")\n",
    "print(f\"Negative Score: {sentiment_scores['neg']}\")\n",
    "print(f\"Neutral Score: {sentiment_scores['neu']}\")\n",
    "print(f\"Compound Score: {sentiment_scores['compound']}\")\n"
   ]
  },
  {
   "cell_type": "markdown",
   "id": "35b61f37-ac6a-4a11-9c40-d9befc6c1bc3",
   "metadata": {},
   "source": [
    "**To illustrate graphically the results of the analysis, the matplotlib Python library provides, among its many different features, a pie chart.**"
   ]
  },
  {
   "cell_type": "code",
   "execution_count": 18,
   "id": "49f56fe3-4eff-4539-9e19-80db86b6b48c",
   "metadata": {},
   "outputs": [
    {
     "data": {
      "image/png": "[encoded data removed]",
      "text/plain": [
       "<Figure size 640x480 with 1 Axes>"
      ]
     },
     "metadata": {},
     "output_type": "display_data"
    }
   ],
   "source": [
    "import matplotlib.pyplot as plt\n",
    "\n",
    "# sentiment analysis scores\n",
    "positive_score = 0.302\n",
    "negative_score = 0.05\n",
    "neutral_score = 0.648\n",
    "\n",
    "# data for the pie chart\n",
    "labels = ['Positive', 'Negative', 'Neutral']\n",
    "sizes = [positive_score, negative_score, neutral_score]\n",
    "colors = ['#82E0AA', '#F1948A', '#EAF2F8']\n",
    "explode = (0.1, 0, 0)  # Explode the 'Positive' slice\n",
    "\n",
    "# creating the pie chart\n",
    "plt.pie(sizes, explode=explode, labels=labels, colors=colors, autopct='%1.1f%%', startangle=90)\n",
    "plt.axis('equal')  # Equal aspect ratio ensures that pie is drawn as a circle\n",
    "\n",
    "# adding a title\n",
    "plt.title('Sentiment Analysis Results')\n",
    "\n",
    "# displaying the pie chart\n",
    "plt.show()"
   ]
  },
  {
   "cell_type": "markdown",
   "id": "c3bad447-7d5a-4242-b00a-409792829d98",
   "metadata": {},
   "source": [
    "# Conclusions"
   ]
  },
  {
   "cell_type": "markdown",
   "id": "25755f96-cf01-4655-9fee-ca09a78e857c",
   "metadata": {},
   "source": [
    "From the analysis results and its graphic illustration it can be infered that the majority of the text in the reviews was marked as neutral, which means that it did not score enough to be classified as either positive or negative. 30.2% is the score which represents the text marked as positive, and only 5% accounts for the negative part of the reviews."
   ]
  },
  {
   "cell_type": "markdown",
   "id": "c0447561-3bb6-4977-ac6c-b99efa4016c7",
   "metadata": {},
   "source": [
    "Although the analysis conducted in this essay is consise, it serves as a great example of the capabilities of the linguistic libraries in Python. NLTK's versatility and extensive documentation make it a valuable resource for both beginners and experienced practitioners in the field of natural language processing. Its vast array of functionalities make it a popular choice for researchers, students, and developers working with text and language data.\n",
    "\n",
    "Overall, NLTK empowers Python developers with a comprehensive set of tools and resources for working with human language data. Whether a person is exploring linguistic patterns, building language models, or conducting sentiment analysis, NLTK is a reliable library that provides a solid foundation for various natural language processing tasks."
   ]
  },
  {
   "cell_type": "code",
   "execution_count": null,
   "id": "85e0a72d-40e1-4a94-936d-9e70a827e7f6",
   "metadata": {},
   "outputs": [],
   "source": []
  }
 ],
 "metadata": {
  "kernelspec": {
   "display_name": "Python 3 (ipykernel)",
   "language": "python",
   "name": "python3"
  },
  "language_info": {
   "codemirror_mode": {
    "name": "ipython",
    "version": 3
   },
   "file_extension": ".py",
   "mimetype": "text/x-python",
   "name": "python",
   "nbconvert_exporter": "python",
   "pygments_lexer": "ipython3",
   "version": "3.10.9"
  }
 },
 "nbformat": 4,
 "nbformat_minor": 5
}
